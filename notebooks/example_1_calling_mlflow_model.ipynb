{
 "cells": [
  {
   "cell_type": "code",
   "execution_count": 6,
   "metadata": {},
   "outputs": [
    {
     "name": "stdout",
     "output_type": "stream",
     "text": [
      "MLflow Tracking URI: ../mlruns\n",
      "0   -182.675311\n",
      "1   -196.572271\n",
      "2   -208.448441\n",
      "dtype: float64\n"
     ]
    }
   ],
   "source": [
    "import mlflow.pyfunc\n",
    "import pandas as pd\n",
    "import numpy as np\n",
    "\n",
    "# Specify the model name and version (optional)\n",
    "model_name = \"OLSRegressionModel\"\n",
    "model_version = 1  # You can also use the latest version by omitting this\n",
    "\n",
    "# Set the tracking URI using an absolute path\n",
    "mlflow.set_tracking_uri(\"../mlruns\")\n",
    "print(\"MLflow Tracking URI:\", mlflow.get_tracking_uri())\n",
    "\n",
    "# Load the model from the Model Registry\n",
    "model_uri = f\"models:/{model_name}/{model_version}\"\n",
    "loaded_model = mlflow.pyfunc.load_model(model_uri)\n",
    "\n",
    "# Prepare your new data for prediction\n",
    "# Assuming your model expects a DataFrame input similar to the original data\n",
    "new_data = pd.DataFrame({\n",
    "    'Literacy': [70, 80, 90],\n",
    "    'Pop1831': [300000, 400000, 500000]\n",
    "})\n",
    "new_data['log_Pop1831'] = np.log(new_data['Pop1831'])\n",
    "\n",
    "# Make predictions\n",
    "predictions = loaded_model.predict(new_data)\n",
    "print(predictions)\n"
   ]
  }
 ],
 "metadata": {
  "kernelspec": {
   "display_name": "venv",
   "language": "python",
   "name": "python3"
  },
  "language_info": {
   "codemirror_mode": {
    "name": "ipython",
    "version": 3
   },
   "file_extension": ".py",
   "mimetype": "text/x-python",
   "name": "python",
   "nbconvert_exporter": "python",
   "pygments_lexer": "ipython3",
   "version": "3.11.9"
  }
 },
 "nbformat": 4,
 "nbformat_minor": 2
}
