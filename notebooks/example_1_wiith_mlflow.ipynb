{
 "cells": [
  {
   "cell_type": "code",
   "execution_count": 4,
   "metadata": {},
   "outputs": [
    {
     "name": "stdout",
     "output_type": "stream",
     "text": [
      "MLflow Tracking URI: ../mlruns\n",
      "Active Run ID: f8c8afbf8fdf4613affe00aff1cd2e54\n",
      "Artifact Location: file:///c:/Users/diego/OneDrive/Escritorio/Github/statsmodels_learning/notebooks/../mlruns/446769622520076732/f8c8afbf8fdf4613affe00aff1cd2e54/artifacts\n",
      "MLflow run completed and model registered.\n"
     ]
    },
    {
     "name": "stderr",
     "output_type": "stream",
     "text": [
      "Registered model 'OLSRegressionModel' already exists. Creating a new version of this model...\n",
      "Created version '2' of model 'OLSRegressionModel'.\n"
     ]
    }
   ],
   "source": [
    "import os\n",
    "import mlflow\n",
    "import mlflow.pyfunc\n",
    "import statsmodels.formula.api as smf\n",
    "import statsmodels.api as sm\n",
    "import numpy as np\n",
    "import warnings\n",
    "\n",
    "# Suppress specific warnings\n",
    "warnings.filterwarnings(\"ignore\", category=UserWarning, message=\"Distutils was imported before Setuptools\")\n",
    "warnings.filterwarnings(\"ignore\", category=UserWarning, message=\"Setuptools is replacing distutils\")\n",
    "\n",
    "# Set the tracking URI using an absolute path\n",
    "mlflow.set_tracking_uri(\"../mlruns\")\n",
    "print(\"MLflow Tracking URI:\", mlflow.get_tracking_uri())\n",
    "\n",
    "# Set the experiment name\n",
    "mlflow.set_experiment(\"Guerry\")\n",
    "\n",
    "# Start an MLflow run using context manager\n",
    "with mlflow.start_run() as run:\n",
    "    print(f\"Active Run ID: {run.info.run_id}\")\n",
    "    print(f\"Artifact Location: {run.info.artifact_uri}\")\n",
    "    \n",
    "    # Fit OLS regression using ln\n",
    "    data = sm.datasets.get_rdataset(\"Guerry\", \"HistData\").data\n",
    "    res = smf.ols('Lottery ~ Literacy + np.log(Pop1831)', data=data).fit()\n",
    "    \n",
    "    # Log parameters\n",
    "    mlflow.log_param(\"formula\", 'Lottery ~ Literacy + np.log(Pop1831)')\n",
    "    \n",
    "    # Log metrics\n",
    "    mlflow.log_metric(\"r_squared\", res.rsquared)\n",
    "    mlflow.log_metric(\"adj_r_squared\", res.rsquared_adj)\n",
    "\n",
    "    # Log the model summary as an artifact\n",
    "    with open(\"model_summary.txt\", \"w\") as f:\n",
    "        f.write(str(res.summary()))\n",
    "    mlflow.log_artifact(\"model_summary.txt\")\n",
    "    \n",
    "    # Register the model\n",
    "    model_uri = f\"runs:/{run.info.run_id}/ols_model\"\n",
    "    model_name = \"OLSRegressionModel\"\n",
    "    registered_model = mlflow.register_model(model_uri=model_uri, name=model_name)\n",
    "\n",
    "print(\"MLflow run completed and model registered.\")\n"
   ]
  },
  {
   "cell_type": "code",
   "execution_count": 2,
   "metadata": {},
   "outputs": [
    {
     "name": "stdout",
     "output_type": "stream",
     "text": [
      "MLflow Tracking URI: ../mlruns\n"
     ]
    }
   ],
   "source": [
    "print(\"MLflow Tracking URI:\", mlflow.get_tracking_uri())\n"
   ]
  },
  {
   "cell_type": "code",
   "execution_count": 7,
   "metadata": {},
   "outputs": [
    {
     "name": "stdout",
     "output_type": "stream",
     "text": [
      "Run ID: 25894ca252764dfd8bbde0b562c2428f\n",
      "\n",
      "Parameters:\n",
      "{'formula': 'Lottery ~ Literacy + np.log(Pop1831)'}\n",
      "\n",
      "Metrics:\n",
      "{'adj_r_squared': np.float64(0.3327711079168274),\n",
      " 'r_squared': np.float64(0.3484706112599609)}\n",
      "\n",
      "Artifacts:\n",
      "model_summary.txt\n",
      "ols_model\n",
      "\n",
      "Model Summary:\n",
      "                            OLS Regression Results                            \n",
      "==============================================================================\n",
      "Dep. Variable:                Lottery   R-squared:                       0.348\n",
      "Model:                            OLS   Adj. R-squared:                  0.333\n",
      "Method:                 Least Squares   F-statistic:                     22.20\n",
      "Date:                Fri, 28 Jun 2024   Prob (F-statistic):           1.90e-08\n",
      "Time:                        01:31:28   Log-Likelihood:                -379.82\n",
      "No. Observations:                  86   AIC:                             765.6\n",
      "Df Residuals:                      83   BIC:                             773.0\n",
      "Df Model:                           2                                         \n",
      "Covariance Type:            nonrobust                                         \n",
      "===================================================================================\n",
      "                      coef    std err          t      P>|t|      [0.025      0.975]\n",
      "-----------------------------------------------------------------------------------\n",
      "Intercept         246.4341     35.233      6.995      0.000     176.358     316.510\n",
      "Literacy           -0.4889      0.128     -3.832      0.000      -0.743      -0.235\n",
      "np.log(Pop1831)   -31.3114      5.977     -5.239      0.000     -43.199     -19.424\n",
      "==============================================================================\n",
      "Omnibus:                        3.713   Durbin-Watson:                   2.019\n",
      "Prob(Omnibus):                  0.156   Jarque-Bera (JB):                3.394\n",
      "Skew:                          -0.487   Prob(JB):                        0.183\n",
      "Kurtosis:                       3.003   Cond. No.                         702.\n",
      "==============================================================================\n",
      "\n",
      "Notes:\n",
      "[1] Standard Errors assume that the covariance matrix of the errors is correctly specified.\n"
     ]
    }
   ],
   "source": [
    "from pprint import pprint\n",
    "\n",
    "# Fetch the latest run\n",
    "latest_run = mlflow.search_runs(experiment_ids=['0']).iloc[0]\n",
    "\n",
    "print(\"Run ID:\", latest_run['run_id'])\n",
    "\n",
    "print(\"\\nParameters:\")\n",
    "params = {k.split('params.')[-1]: v for k, v in latest_run.items() if k.startswith('params.')}\n",
    "pprint(params)\n",
    "\n",
    "print(\"\\nMetrics:\")\n",
    "metrics = {k.split('metrics.')[-1]: v for k, v in latest_run.items() if k.startswith('metrics.')}\n",
    "pprint(metrics)\n",
    "\n",
    "print(\"\\nArtifacts:\")\n",
    "client = mlflow.tracking.MlflowClient()\n",
    "artifacts = client.list_artifacts(latest_run['run_id'])\n",
    "for artifact in artifacts:\n",
    "    print(artifact.path)\n",
    "\n",
    "# If you want to view the content of a specific artifact (e.g., model_summary.txt):\n",
    "if any(artifact.path == \"model_summary.txt\" for artifact in artifacts):\n",
    "    local_path = client.download_artifacts(latest_run['run_id'], \"model_summary.txt\")\n",
    "    with open(local_path, \"r\") as f:\n",
    "        print(\"\\nModel Summary:\")\n",
    "        print(f.read())\n",
    "else:\n",
    "    print(\"\\nNo model_summary.txt found in artifacts.\")"
   ]
  },
  {
   "cell_type": "code",
   "execution_count": 3,
   "metadata": {},
   "outputs": [],
   "source": [
    "from mlflow.tracking import MlflowClient\n",
    "\n",
    "# Instantiate the MLflow client\n",
    "client = MlflowClient()\n",
    "\n",
    "# Retrieve all experiments\n",
    "all_experiments = client.search_experiments()\n"
   ]
  },
  {
   "cell_type": "code",
   "execution_count": 4,
   "metadata": {},
   "outputs": [
    {
     "data": {
      "text/plain": [
       "[<Experiment: artifact_location='file:///c:/Users/diego/OneDrive/Escritorio/Github/statsmodels_learning/notebooks/mlruns/0', creation_time=1719551799698, experiment_id='0', last_update_time=1719551799698, lifecycle_stage='active', name='Default', tags={}>]"
      ]
     },
     "execution_count": 4,
     "metadata": {},
     "output_type": "execute_result"
    }
   ],
   "source": [
    "all_experiments"
   ]
  }
 ],
 "metadata": {
  "kernelspec": {
   "display_name": "venv",
   "language": "python",
   "name": "python3"
  },
  "language_info": {
   "codemirror_mode": {
    "name": "ipython",
    "version": 3
   },
   "file_extension": ".py",
   "mimetype": "text/x-python",
   "name": "python",
   "nbconvert_exporter": "python",
   "pygments_lexer": "ipython3",
   "version": "3.11.9"
  }
 },
 "nbformat": 4,
 "nbformat_minor": 2
}
